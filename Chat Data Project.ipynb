{
 "cells": [
  {
   "cell_type": "markdown",
   "metadata": {},
   "source": [
    "# Summary"
   ]
  },
  {
   "cell_type": "markdown",
   "metadata": {},
   "source": [
    "#### This is demo project illustrating a real life company problem where we have to build an automatic script which will read, process and save the results to an excel (xlsx format) file in an automatic way.\n",
    "#### Here we are given a toy dataset for a company's customer care centre (call centre/help centre) focusing on the chat times and responses by the agents as well as bot.\n",
    "#### The details regarding the required metrics to be calculated and the format for the output excel file are given in the readme file. \n",
    "#### Note: Here we will be demonstrating 2 different ways for calculate metrics 1 and metrics 2."
   ]
  },
  {
   "cell_type": "code",
   "execution_count": 1,
   "metadata": {},
   "outputs": [],
   "source": [
    "# Loading Necessary Libraries\n",
    "\n",
    "import numpy as np\n",
    "import pandas as pd\n",
    "import datetime as dt\n",
    "from calendar import monthrange\n",
    "import math"
   ]
  },
  {
   "cell_type": "markdown",
   "metadata": {},
   "source": [
    "#### We will first import the file and explore the data to understand it well and also perform some sanity checks to confirm data integrity."
   ]
  },
  {
   "cell_type": "code",
   "execution_count": 2,
   "metadata": {},
   "outputs": [],
   "source": [
    "# Reading excel file using pandas\n",
    "\n",
    "df = pd.read_excel('Data Dump - Data Analytics Intern Questions.xlsx')"
   ]
  },
  {
   "cell_type": "code",
   "execution_count": 3,
   "metadata": {},
   "outputs": [
    {
     "data": {
      "text/html": [
       "<div>\n",
       "<style scoped>\n",
       "    .dataframe tbody tr th:only-of-type {\n",
       "        vertical-align: middle;\n",
       "    }\n",
       "\n",
       "    .dataframe tbody tr th {\n",
       "        vertical-align: top;\n",
       "    }\n",
       "\n",
       "    .dataframe thead th {\n",
       "        text-align: right;\n",
       "    }\n",
       "</style>\n",
       "<table border=\"1\" class=\"dataframe\">\n",
       "  <thead>\n",
       "    <tr style=\"text-align: right;\">\n",
       "      <th></th>\n",
       "      <th>RoomCode</th>\n",
       "      <th>UserId</th>\n",
       "      <th>ClosedBy</th>\n",
       "      <th>ClosingComment</th>\n",
       "      <th>ChatStartTime</th>\n",
       "      <th>ChatEndTime</th>\n",
       "      <th>AgentAssignmentTimestamp</th>\n",
       "      <th>BotFirstResponseTime</th>\n",
       "      <th>AgentFirstResponseTime</th>\n",
       "      <th>CsatScore</th>\n",
       "    </tr>\n",
       "  </thead>\n",
       "  <tbody>\n",
       "    <tr>\n",
       "      <th>0</th>\n",
       "      <td>8528073</td>\n",
       "      <td>e2ff5f48-5f2b-4bb6-894b-fad28843fe0b</td>\n",
       "      <td>System</td>\n",
       "      <td>Closing inactive room</td>\n",
       "      <td>2021-04-02 10:39:34</td>\n",
       "      <td>2021-04-02 11:40:20</td>\n",
       "      <td>-</td>\n",
       "      <td>00:00:00</td>\n",
       "      <td>-</td>\n",
       "      <td>0</td>\n",
       "    </tr>\n",
       "    <tr>\n",
       "      <th>1</th>\n",
       "      <td>8674865</td>\n",
       "      <td>362f984a-1487-4fd8-85b2-1e2a94442f9b</td>\n",
       "      <td>System</td>\n",
       "      <td>Closing now</td>\n",
       "      <td>26-02-2021 12:51:37</td>\n",
       "      <td>26-02-2021 12:55:27</td>\n",
       "      <td>-</td>\n",
       "      <td>00:00:00</td>\n",
       "      <td>-</td>\n",
       "      <td>0</td>\n",
       "    </tr>\n",
       "    <tr>\n",
       "      <th>2</th>\n",
       "      <td>8543522</td>\n",
       "      <td>4ae0951a-4ba4-4e2f-863b-eb1fab965933</td>\n",
       "      <td>System</td>\n",
       "      <td>Closing inactive room</td>\n",
       "      <td>2021-06-02 12:17:00</td>\n",
       "      <td>2021-06-02 13:17:07</td>\n",
       "      <td>-</td>\n",
       "      <td>00:00:00</td>\n",
       "      <td>-</td>\n",
       "      <td>0</td>\n",
       "    </tr>\n",
       "    <tr>\n",
       "      <th>3</th>\n",
       "      <td>8581336</td>\n",
       "      <td>b675563d-8906-4b9d-9368-fda6f21b16d5</td>\n",
       "      <td>System</td>\n",
       "      <td>Closing now</td>\n",
       "      <td>2021-11-02 19:24:24</td>\n",
       "      <td>2021-11-02 19:25:03</td>\n",
       "      <td>-</td>\n",
       "      <td>00:00:01</td>\n",
       "      <td>-</td>\n",
       "      <td>0</td>\n",
       "    </tr>\n",
       "    <tr>\n",
       "      <th>4</th>\n",
       "      <td>8613422</td>\n",
       "      <td>b254a88e-4b76-4667-8352-f1583d71da1a</td>\n",
       "      <td>Nisha</td>\n",
       "      <td>Unresponsive Customer</td>\n",
       "      <td>16-02-2021 14:37:17</td>\n",
       "      <td>16-02-2021 14:59:54</td>\n",
       "      <td>16-02-2021 14:39:56</td>\n",
       "      <td>00:00:00</td>\n",
       "      <td>00:00:04</td>\n",
       "      <td>3</td>\n",
       "    </tr>\n",
       "  </tbody>\n",
       "</table>\n",
       "</div>"
      ],
      "text/plain": [
       "   RoomCode                                UserId ClosedBy  \\\n",
       "0   8528073  e2ff5f48-5f2b-4bb6-894b-fad28843fe0b   System   \n",
       "1   8674865  362f984a-1487-4fd8-85b2-1e2a94442f9b   System   \n",
       "2   8543522  4ae0951a-4ba4-4e2f-863b-eb1fab965933   System   \n",
       "3   8581336  b675563d-8906-4b9d-9368-fda6f21b16d5   System   \n",
       "4   8613422  b254a88e-4b76-4667-8352-f1583d71da1a    Nisha   \n",
       "\n",
       "          ClosingComment        ChatStartTime          ChatEndTime  \\\n",
       "0  Closing inactive room  2021-04-02 10:39:34  2021-04-02 11:40:20   \n",
       "1            Closing now  26-02-2021 12:51:37  26-02-2021 12:55:27   \n",
       "2  Closing inactive room  2021-06-02 12:17:00  2021-06-02 13:17:07   \n",
       "3            Closing now  2021-11-02 19:24:24  2021-11-02 19:25:03   \n",
       "4  Unresponsive Customer  16-02-2021 14:37:17  16-02-2021 14:59:54   \n",
       "\n",
       "  AgentAssignmentTimestamp BotFirstResponseTime AgentFirstResponseTime  \\\n",
       "0                        -             00:00:00                      -   \n",
       "1                        -             00:00:00                      -   \n",
       "2                        -             00:00:00                      -   \n",
       "3                        -             00:00:01                      -   \n",
       "4      16-02-2021 14:39:56             00:00:00               00:00:04   \n",
       "\n",
       "   CsatScore  \n",
       "0          0  \n",
       "1          0  \n",
       "2          0  \n",
       "3          0  \n",
       "4          3  "
      ]
     },
     "execution_count": 3,
     "metadata": {},
     "output_type": "execute_result"
    }
   ],
   "source": [
    "df.head()"
   ]
  },
  {
   "cell_type": "markdown",
   "metadata": {},
   "source": [
    "#### We observe time data is in two different formats and we will later change and keep in yy/mm//dd"
   ]
  },
  {
   "cell_type": "code",
   "execution_count": 4,
   "metadata": {},
   "outputs": [
    {
     "data": {
      "text/plain": [
       "(10000, 10)"
      ]
     },
     "execution_count": 4,
     "metadata": {},
     "output_type": "execute_result"
    }
   ],
   "source": [
    "df.shape"
   ]
  },
  {
   "cell_type": "code",
   "execution_count": 5,
   "metadata": {},
   "outputs": [
    {
     "data": {
      "text/plain": [
       "object    8\n",
       "int64     2\n",
       "dtype: int64"
      ]
     },
     "execution_count": 5,
     "metadata": {},
     "output_type": "execute_result"
    }
   ],
   "source": [
    "df.dtypes.value_counts()"
   ]
  },
  {
   "cell_type": "markdown",
   "metadata": {},
   "source": [
    "#### We note all the time data is in object format and needs to changed"
   ]
  },
  {
   "cell_type": "code",
   "execution_count": 6,
   "metadata": {},
   "outputs": [
    {
     "data": {
      "text/plain": [
       "10000"
      ]
     },
     "execution_count": 6,
     "metadata": {},
     "output_type": "execute_result"
    }
   ],
   "source": [
    "df['RoomCode'].nunique()"
   ]
  },
  {
   "cell_type": "markdown",
   "metadata": {},
   "source": [
    "#### We confirm all values of 'RoomCode' are unique as given to us in the description i.e. no duplicates"
   ]
  },
  {
   "cell_type": "code",
   "execution_count": 7,
   "metadata": {},
   "outputs": [
    {
     "data": {
      "text/plain": [
       "array(['System', 'Nisha', 'Kabir', 'Priti', 'Mohsin', 'Samy', 'Adaa',\n",
       "       'Vikram', 'Deepa', 'Sandy', 'Manpreet', 'Ellie', 'Maroon',\n",
       "       'Gurpreet', 'Juvi', 'Eva', 'Vedha', 'Ganesh', 'Jinnie', 'Isha',\n",
       "       'Simran', 'Rozeta', 'Bot', 'Rohan', 'Norah', 'Bot\\n', 'Salman',\n",
       "       'Rose', 'Jade', 'Megha', 'Pritam', 'Azaan', 'Nayab', 'Geetika',\n",
       "       'Meher', 'Abbas', 'Anny', 'Elina', 'Mira', 'Zia', 'Avani',\n",
       "       'Liliana', 'Nadia', 'Lara', 'Quinn', 'Alia', 'Anisha', 'Roop',\n",
       "       'Kunal', 'Simmi', 'carrie', 'Ayush', 'Yash', 'Keyur', 'Dalphine',\n",
       "       'Roshni', 'Kesha', 'Priyanka', 'Nikita', 'komi', 'Mary', 'Satish',\n",
       "       'Serena', 'Rahul', 'Akash', 'Hana', 'Atif', 'Sourav', 'Manisha',\n",
       "       'Lakshmi', 'Pawanpreet', 'Ajay', 'Aria', 'Murtaza', 'Ruchi',\n",
       "       'Adil', 'Asif', 'Hayat', 'Gaurav', 'Swaraj', 'Paul', 'Sudha',\n",
       "       'Diya', 'Rebecca', 'Rusali', 'Sravan', 'Daanish', 'Saif', 'Raman',\n",
       "       'Krishna', 'Kevin', 'Pratyush', 'Ryla', 'Tia', 'Swati', 'Meeta',\n",
       "       'Taniya'], dtype=object)"
      ]
     },
     "execution_count": 7,
     "metadata": {},
     "output_type": "execute_result"
    }
   ],
   "source": [
    "df['ClosedBy'].unique()"
   ]
  },
  {
   "cell_type": "markdown",
   "metadata": {},
   "source": [
    "#### We observe 'Automation System' has three different names ('System', 'Bot', 'Bot\\n') and thus needs to be fixed to a single one"
   ]
  },
  {
   "cell_type": "code",
   "execution_count": 8,
   "metadata": {},
   "outputs": [
    {
     "data": {
      "text/plain": [
       "array(['Closing inactive room', 'Closing now', 'Unresponsive Customer',\n",
       "       'Completed', 'webhook block failed',\n",
       "       'Bot closed the conversation. NO transfer'], dtype=object)"
      ]
     },
     "execution_count": 8,
     "metadata": {},
     "output_type": "execute_result"
    }
   ],
   "source": [
    "df['ClosingComment'].unique()"
   ]
  },
  {
   "cell_type": "markdown",
   "metadata": {},
   "source": [
    "\n"
   ]
  },
  {
   "cell_type": "markdown",
   "metadata": {},
   "source": [
    "## Converting the date time values (object type) with 2 different date-time format to single format of datetime type (yy/mm/dd)"
   ]
  },
  {
   "cell_type": "code",
   "execution_count": 9,
   "metadata": {},
   "outputs": [],
   "source": [
    "date_col = ['ChatStartTime', 'ChatEndTime', 'AgentAssignmentTimestamp']"
   ]
  },
  {
   "cell_type": "code",
   "execution_count": 10,
   "metadata": {},
   "outputs": [],
   "source": [
    "for i in date_col:\n",
    "    date1 = pd.to_datetime(df[i], errors='coerce', format='%Y-%d-%m %H:%M:%S')\n",
    "    date2 = pd.to_datetime(df[i], errors='coerce', format='%d-%m-%Y %H:%M:%S')\n",
    "    df['{0}_fix'.format(i)] = date1.fillna(date2)   "
   ]
  },
  {
   "cell_type": "markdown",
   "metadata": {},
   "source": [
    "#### We added new columnns for our fixed datatime values with column names having a suffix '_fix' to their previous columns names"
   ]
  },
  {
   "cell_type": "markdown",
   "metadata": {},
   "source": [
    "## Converting Time columns to datetime format"
   ]
  },
  {
   "cell_type": "code",
   "execution_count": 11,
   "metadata": {},
   "outputs": [
    {
     "data": {
      "text/html": [
       "<div>\n",
       "<style scoped>\n",
       "    .dataframe tbody tr th:only-of-type {\n",
       "        vertical-align: middle;\n",
       "    }\n",
       "\n",
       "    .dataframe tbody tr th {\n",
       "        vertical-align: top;\n",
       "    }\n",
       "\n",
       "    .dataframe thead th {\n",
       "        text-align: right;\n",
       "    }\n",
       "</style>\n",
       "<table border=\"1\" class=\"dataframe\">\n",
       "  <thead>\n",
       "    <tr style=\"text-align: right;\">\n",
       "      <th></th>\n",
       "      <th>BotFirstResponseTime</th>\n",
       "      <th>AgentFirstResponseTime</th>\n",
       "    </tr>\n",
       "  </thead>\n",
       "  <tbody>\n",
       "    <tr>\n",
       "      <th>0</th>\n",
       "      <td>1900-01-01 00:00:00</td>\n",
       "      <td>NaT</td>\n",
       "    </tr>\n",
       "    <tr>\n",
       "      <th>1</th>\n",
       "      <td>1900-01-01 00:00:00</td>\n",
       "      <td>NaT</td>\n",
       "    </tr>\n",
       "    <tr>\n",
       "      <th>2</th>\n",
       "      <td>1900-01-01 00:00:00</td>\n",
       "      <td>NaT</td>\n",
       "    </tr>\n",
       "    <tr>\n",
       "      <th>3</th>\n",
       "      <td>1900-01-01 00:00:01</td>\n",
       "      <td>NaT</td>\n",
       "    </tr>\n",
       "    <tr>\n",
       "      <th>4</th>\n",
       "      <td>1900-01-01 00:00:00</td>\n",
       "      <td>1900-01-01 00:00:04</td>\n",
       "    </tr>\n",
       "    <tr>\n",
       "      <th>...</th>\n",
       "      <td>...</td>\n",
       "      <td>...</td>\n",
       "    </tr>\n",
       "    <tr>\n",
       "      <th>9995</th>\n",
       "      <td>1900-01-01 00:00:00</td>\n",
       "      <td>1900-01-01 00:00:13</td>\n",
       "    </tr>\n",
       "    <tr>\n",
       "      <th>9996</th>\n",
       "      <td>1900-01-01 00:00:00</td>\n",
       "      <td>NaT</td>\n",
       "    </tr>\n",
       "    <tr>\n",
       "      <th>9997</th>\n",
       "      <td>1900-01-01 00:00:00</td>\n",
       "      <td>NaT</td>\n",
       "    </tr>\n",
       "    <tr>\n",
       "      <th>9998</th>\n",
       "      <td>1900-01-01 00:00:00</td>\n",
       "      <td>1900-01-01 00:00:07</td>\n",
       "    </tr>\n",
       "    <tr>\n",
       "      <th>9999</th>\n",
       "      <td>1900-01-01 00:00:00</td>\n",
       "      <td>1900-01-01 00:00:08</td>\n",
       "    </tr>\n",
       "  </tbody>\n",
       "</table>\n",
       "<p>10000 rows × 2 columns</p>\n",
       "</div>"
      ],
      "text/plain": [
       "     BotFirstResponseTime AgentFirstResponseTime\n",
       "0     1900-01-01 00:00:00                    NaT\n",
       "1     1900-01-01 00:00:00                    NaT\n",
       "2     1900-01-01 00:00:00                    NaT\n",
       "3     1900-01-01 00:00:01                    NaT\n",
       "4     1900-01-01 00:00:00    1900-01-01 00:00:04\n",
       "...                   ...                    ...\n",
       "9995  1900-01-01 00:00:00    1900-01-01 00:00:13\n",
       "9996  1900-01-01 00:00:00                    NaT\n",
       "9997  1900-01-01 00:00:00                    NaT\n",
       "9998  1900-01-01 00:00:00    1900-01-01 00:00:07\n",
       "9999  1900-01-01 00:00:00    1900-01-01 00:00:08\n",
       "\n",
       "[10000 rows x 2 columns]"
      ]
     },
     "execution_count": 11,
     "metadata": {},
     "output_type": "execute_result"
    }
   ],
   "source": [
    "time_cols = ['BotFirstResponseTime','AgentFirstResponseTime']\n",
    "df[time_cols] = df[time_cols].apply(pd.to_datetime, errors = 'coerce', format='%H:%M:%S')\n",
    "df[time_cols]"
   ]
  },
  {
   "cell_type": "markdown",
   "metadata": {},
   "source": [
    "#### Here we convert and replace the previous dataframe columns having time values (object type) with datetime type. \n",
    "#### Note: Although the date here (1900-01-01) is misrepresented, we will leave it be as a dummy value as it will be easier to perform calcualtions on it using datetime library functions. Also, time can be extracted from these values later on as and when required. "
   ]
  },
  {
   "cell_type": "markdown",
   "metadata": {},
   "source": [
    "## Changing automation system name to 'System' for all varying names"
   ]
  },
  {
   "cell_type": "code",
   "execution_count": 12,
   "metadata": {},
   "outputs": [
    {
     "data": {
      "text/plain": [
       "array(['System', 'Nisha', 'Kabir', 'Priti', 'Mohsin', 'Samy', 'Adaa',\n",
       "       'Vikram', 'Deepa', 'Sandy', 'Manpreet', 'Ellie', 'Maroon',\n",
       "       'Gurpreet', 'Juvi', 'Eva', 'Vedha', 'Ganesh', 'Jinnie', 'Isha',\n",
       "       'Simran', 'Rozeta', 'Rohan', 'Norah', 'Salman', 'Rose', 'Jade',\n",
       "       'Megha', 'Pritam', 'Azaan', 'Nayab', 'Geetika', 'Meher', 'Abbas',\n",
       "       'Anny', 'Elina', 'Mira', 'Zia', 'Avani', 'Liliana', 'Nadia',\n",
       "       'Lara', 'Quinn', 'Alia', 'Anisha', 'Roop', 'Kunal', 'Simmi',\n",
       "       'carrie', 'Ayush', 'Yash', 'Keyur', 'Dalphine', 'Roshni', 'Kesha',\n",
       "       'Priyanka', 'Nikita', 'komi', 'Mary', 'Satish', 'Serena', 'Rahul',\n",
       "       'Akash', 'Hana', 'Atif', 'Sourav', 'Manisha', 'Lakshmi',\n",
       "       'Pawanpreet', 'Ajay', 'Aria', 'Murtaza', 'Ruchi', 'Adil', 'Asif',\n",
       "       'Hayat', 'Gaurav', 'Swaraj', 'Paul', 'Sudha', 'Diya', 'Rebecca',\n",
       "       'Rusali', 'Sravan', 'Daanish', 'Saif', 'Raman', 'Krishna', 'Kevin',\n",
       "       'Pratyush', 'Ryla', 'Tia', 'Swati', 'Meeta', 'Taniya'],\n",
       "      dtype=object)"
      ]
     },
     "execution_count": 12,
     "metadata": {},
     "output_type": "execute_result"
    }
   ],
   "source": [
    "mask = (df['ClosedBy'] == 'Bot') | (df['ClosedBy'] == 'Bot\\n') \n",
    "df.loc[mask, 'ClosedBy'] = 'System'\n",
    "df['ClosedBy'].unique()"
   ]
  },
  {
   "cell_type": "markdown",
   "metadata": {},
   "source": [
    "#### Here we have changed the name for all different types/names of automation system in 'ClosedBy' column to 'System'"
   ]
  },
  {
   "cell_type": "code",
   "execution_count": 13,
   "metadata": {},
   "outputs": [
    {
     "name": "stdout",
     "output_type": "stream",
     "text": [
      "<class 'pandas.core.frame.DataFrame'>\n",
      "RangeIndex: 10000 entries, 0 to 9999\n",
      "Data columns (total 13 columns):\n",
      " #   Column                        Non-Null Count  Dtype         \n",
      "---  ------                        --------------  -----         \n",
      " 0   RoomCode                      10000 non-null  int64         \n",
      " 1   UserId                        10000 non-null  object        \n",
      " 2   ClosedBy                      10000 non-null  object        \n",
      " 3   ClosingComment                10000 non-null  object        \n",
      " 4   ChatStartTime                 10000 non-null  object        \n",
      " 5   ChatEndTime                   10000 non-null  object        \n",
      " 6   AgentAssignmentTimestamp      10000 non-null  object        \n",
      " 7   BotFirstResponseTime          9998 non-null   datetime64[ns]\n",
      " 8   AgentFirstResponseTime        3722 non-null   datetime64[ns]\n",
      " 9   CsatScore                     10000 non-null  int64         \n",
      " 10  ChatStartTime_fix             10000 non-null  datetime64[ns]\n",
      " 11  ChatEndTime_fix               10000 non-null  datetime64[ns]\n",
      " 12  AgentAssignmentTimestamp_fix  3722 non-null   datetime64[ns]\n",
      "dtypes: datetime64[ns](5), int64(2), object(6)\n",
      "memory usage: 1015.8+ KB\n"
     ]
    }
   ],
   "source": [
    "df.info()"
   ]
  },
  {
   "cell_type": "markdown",
   "metadata": {},
   "source": [
    "#### No null values found for integer types (Datetime columns have some Nat's assigned by us and are ok)"
   ]
  },
  {
   "cell_type": "code",
   "execution_count": 14,
   "metadata": {},
   "outputs": [
    {
     "data": {
      "text/html": [
       "<div>\n",
       "<style scoped>\n",
       "    .dataframe tbody tr th:only-of-type {\n",
       "        vertical-align: middle;\n",
       "    }\n",
       "\n",
       "    .dataframe tbody tr th {\n",
       "        vertical-align: top;\n",
       "    }\n",
       "\n",
       "    .dataframe thead th {\n",
       "        text-align: right;\n",
       "    }\n",
       "</style>\n",
       "<table border=\"1\" class=\"dataframe\">\n",
       "  <thead>\n",
       "    <tr style=\"text-align: right;\">\n",
       "      <th></th>\n",
       "      <th>RoomCode</th>\n",
       "      <th>BotFirstResponseTime</th>\n",
       "      <th>AgentFirstResponseTime</th>\n",
       "      <th>CsatScore</th>\n",
       "      <th>ChatStartTime_fix</th>\n",
       "      <th>ChatEndTime_fix</th>\n",
       "      <th>AgentAssignmentTimestamp_fix</th>\n",
       "    </tr>\n",
       "  </thead>\n",
       "  <tbody>\n",
       "    <tr>\n",
       "      <th>count</th>\n",
       "      <td>1.000000e+04</td>\n",
       "      <td>9998</td>\n",
       "      <td>3722</td>\n",
       "      <td>10000.000000</td>\n",
       "      <td>10000</td>\n",
       "      <td>10000</td>\n",
       "      <td>3722</td>\n",
       "    </tr>\n",
       "    <tr>\n",
       "      <th>mean</th>\n",
       "      <td>8.596392e+06</td>\n",
       "      <td>1900-01-01 00:00:00.171709184</td>\n",
       "      <td>1900-01-01 00:00:13.761152768</td>\n",
       "      <td>0.968500</td>\n",
       "      <td>2021-02-14 09:53:29.108499712</td>\n",
       "      <td>2021-02-14 10:21:07.759794688</td>\n",
       "      <td>2021-02-14 10:16:01.131648768</td>\n",
       "    </tr>\n",
       "    <tr>\n",
       "      <th>min</th>\n",
       "      <td>7.701262e+06</td>\n",
       "      <td>1900-01-01 00:00:00</td>\n",
       "      <td>1900-01-01 00:00:01</td>\n",
       "      <td>0.000000</td>\n",
       "      <td>2021-01-31 23:05:09</td>\n",
       "      <td>2021-02-01 00:05:47</td>\n",
       "      <td>2021-02-01 09:00:34</td>\n",
       "    </tr>\n",
       "    <tr>\n",
       "      <th>25%</th>\n",
       "      <td>8.549444e+06</td>\n",
       "      <td>1900-01-01 00:00:00</td>\n",
       "      <td>1900-01-01 00:00:05</td>\n",
       "      <td>0.000000</td>\n",
       "      <td>2021-02-07 10:35:55</td>\n",
       "      <td>2021-02-07 10:50:30.500000</td>\n",
       "      <td>2021-02-06 18:35:04.749999872</td>\n",
       "    </tr>\n",
       "    <tr>\n",
       "      <th>50%</th>\n",
       "      <td>8.595529e+06</td>\n",
       "      <td>1900-01-01 00:00:00</td>\n",
       "      <td>1900-01-01 00:00:07</td>\n",
       "      <td>0.000000</td>\n",
       "      <td>2021-02-13 18:57:41.500000</td>\n",
       "      <td>2021-02-13 19:17:57</td>\n",
       "      <td>2021-02-14 10:08:26.500000</td>\n",
       "    </tr>\n",
       "    <tr>\n",
       "      <th>75%</th>\n",
       "      <td>8.644398e+06</td>\n",
       "      <td>1900-01-01 00:00:00</td>\n",
       "      <td>1900-01-01 00:00:11</td>\n",
       "      <td>1.000000</td>\n",
       "      <td>2021-02-21 14:05:54.249999872</td>\n",
       "      <td>2021-02-21 14:37:14</td>\n",
       "      <td>2021-02-20 19:12:07.750000128</td>\n",
       "    </tr>\n",
       "    <tr>\n",
       "      <th>max</th>\n",
       "      <td>8.690837e+06</td>\n",
       "      <td>1900-01-01 00:00:37</td>\n",
       "      <td>1900-01-01 00:29:18</td>\n",
       "      <td>5.000000</td>\n",
       "      <td>2021-02-28 23:57:10</td>\n",
       "      <td>2021-03-01 00:39:21</td>\n",
       "      <td>2021-02-28 20:35:48</td>\n",
       "    </tr>\n",
       "    <tr>\n",
       "      <th>std</th>\n",
       "      <td>5.485097e+04</td>\n",
       "      <td>NaN</td>\n",
       "      <td>NaN</td>\n",
       "      <td>1.709503</td>\n",
       "      <td>NaN</td>\n",
       "      <td>NaN</td>\n",
       "      <td>NaN</td>\n",
       "    </tr>\n",
       "  </tbody>\n",
       "</table>\n",
       "</div>"
      ],
      "text/plain": [
       "           RoomCode           BotFirstResponseTime  \\\n",
       "count  1.000000e+04                           9998   \n",
       "mean   8.596392e+06  1900-01-01 00:00:00.171709184   \n",
       "min    7.701262e+06            1900-01-01 00:00:00   \n",
       "25%    8.549444e+06            1900-01-01 00:00:00   \n",
       "50%    8.595529e+06            1900-01-01 00:00:00   \n",
       "75%    8.644398e+06            1900-01-01 00:00:00   \n",
       "max    8.690837e+06            1900-01-01 00:00:37   \n",
       "std    5.485097e+04                            NaN   \n",
       "\n",
       "              AgentFirstResponseTime     CsatScore  \\\n",
       "count                           3722  10000.000000   \n",
       "mean   1900-01-01 00:00:13.761152768      0.968500   \n",
       "min              1900-01-01 00:00:01      0.000000   \n",
       "25%              1900-01-01 00:00:05      0.000000   \n",
       "50%              1900-01-01 00:00:07      0.000000   \n",
       "75%              1900-01-01 00:00:11      1.000000   \n",
       "max              1900-01-01 00:29:18      5.000000   \n",
       "std                              NaN      1.709503   \n",
       "\n",
       "                   ChatStartTime_fix                ChatEndTime_fix  \\\n",
       "count                          10000                          10000   \n",
       "mean   2021-02-14 09:53:29.108499712  2021-02-14 10:21:07.759794688   \n",
       "min              2021-01-31 23:05:09            2021-02-01 00:05:47   \n",
       "25%              2021-02-07 10:35:55     2021-02-07 10:50:30.500000   \n",
       "50%       2021-02-13 18:57:41.500000            2021-02-13 19:17:57   \n",
       "75%    2021-02-21 14:05:54.249999872            2021-02-21 14:37:14   \n",
       "max              2021-02-28 23:57:10            2021-03-01 00:39:21   \n",
       "std                              NaN                            NaN   \n",
       "\n",
       "        AgentAssignmentTimestamp_fix  \n",
       "count                           3722  \n",
       "mean   2021-02-14 10:16:01.131648768  \n",
       "min              2021-02-01 09:00:34  \n",
       "25%    2021-02-06 18:35:04.749999872  \n",
       "50%       2021-02-14 10:08:26.500000  \n",
       "75%    2021-02-20 19:12:07.750000128  \n",
       "max              2021-02-28 20:35:48  \n",
       "std                              NaN  "
      ]
     },
     "execution_count": 14,
     "metadata": {},
     "output_type": "execute_result"
    }
   ],
   "source": [
    "df.describe(datetime_is_numeric = True)"
   ]
  },
  {
   "cell_type": "markdown",
   "metadata": {},
   "source": [
    "#### Checking min and max values of columns and all seem to be fine and in range"
   ]
  },
  {
   "cell_type": "markdown",
   "metadata": {},
   "source": [
    "-------"
   ]
  },
  {
   "cell_type": "markdown",
   "metadata": {},
   "source": [
    "# Chat Metrics (Metric Table 1)"
   ]
  },
  {
   "cell_type": "markdown",
   "metadata": {},
   "source": [
    "#### Now we will calcualte our first metric table (Chat Metrics) as described in the readme file"
   ]
  },
  {
   "cell_type": "markdown",
   "metadata": {},
   "source": [
    "#### As most metrics here require a count operation for calculation, we will make use of a general function which can be re-used later for other months also if needed."
   ]
  },
  {
   "cell_type": "code",
   "execution_count": 15,
   "metadata": {},
   "outputs": [],
   "source": [
    "# Pre-calculations for metrics 1 before they can be used on the main function\n",
    "\n",
    "# For calculating Total Incoming Chats\n",
    "inc_chat = df['RoomCode']\n",
    "\n",
    "# For calculating Total Unique Users\n",
    "uni_user = pd.Series(df['UserId'].unique())\n",
    "\n",
    "# For calculating Total Chats Closed By System/Bot\n",
    "clsd_bot = df['ClosedBy'].loc[df['ClosedBy'] == 'System']\n",
    "\n",
    "# Defining a dummy value for calculating Avg Bot Deflection % i.e. count of Closed By / Incoming Chats\n",
    "bot_def = 0\n",
    "\n",
    "# For calculating Total Chats Closed By Agents\n",
    "clsd_user = df['ClosedBy'].loc[df['ClosedBy'] != 'System']"
   ]
  },
  {
   "cell_type": "code",
   "execution_count": 16,
   "metadata": {},
   "outputs": [],
   "source": [
    "# Function for calculating Table 1 metrics\n",
    "\n",
    "def metrics1_weekly(name, data, year = 2021, month = 2, day = 1, by = 7):\n",
    "\n",
    "    weekly_metric = dict()\n",
    "    num_days = monthrange(year, month)[1]\n",
    "    by = by    \n",
    "        \n",
    "    if type(data) != type(bot_def):\n",
    "        \n",
    "        for i in range(math.ceil(num_days/by)):\n",
    "            weekly_data = df['ChatStartTime_fix'].between(dt.datetime(year, month, day),dt.datetime(year, month, min(day + by, num_days)))\n",
    "            weekly_metric.update({i : data.loc[weekly_data].count()})\n",
    "            day = day + by\n",
    "        result_series[name] = pd.Series(weekly_metric)\n",
    "    else:\n",
    "        data = (result_series['Closed By Bot'] / result_series[\"Incoming Chats\"]) * 100\n",
    "        result_series[name] = data"
   ]
  },
  {
   "cell_type": "code",
   "execution_count": 17,
   "metadata": {},
   "outputs": [
    {
     "data": {
      "text/html": [
       "<div>\n",
       "<style scoped>\n",
       "    .dataframe tbody tr th:only-of-type {\n",
       "        vertical-align: middle;\n",
       "    }\n",
       "\n",
       "    .dataframe tbody tr th {\n",
       "        vertical-align: top;\n",
       "    }\n",
       "\n",
       "    .dataframe thead tr th {\n",
       "        text-align: left;\n",
       "    }\n",
       "</style>\n",
       "<table border=\"1\" class=\"dataframe\">\n",
       "  <thead>\n",
       "    <tr>\n",
       "      <th>Week</th>\n",
       "      <th>Incoming Chats</th>\n",
       "      <th>Unique Users</th>\n",
       "      <th>Closed By Bot</th>\n",
       "      <th>Bot Deflection %</th>\n",
       "      <th>Closed By User</th>\n",
       "    </tr>\n",
       "    <tr>\n",
       "      <th>Overall</th>\n",
       "      <th>SUM</th>\n",
       "      <th>SUM</th>\n",
       "      <th>SUM</th>\n",
       "      <th>AVERAGE</th>\n",
       "      <th>SUM</th>\n",
       "    </tr>\n",
       "  </thead>\n",
       "  <tbody>\n",
       "    <tr>\n",
       "      <th>1 Feb - 7 Feb</th>\n",
       "      <td>2763</td>\n",
       "      <td>2603</td>\n",
       "      <td>1789</td>\n",
       "      <td>64.748462</td>\n",
       "      <td>974</td>\n",
       "    </tr>\n",
       "    <tr>\n",
       "      <th>8 Feb - 14 Feb</th>\n",
       "      <td>2620</td>\n",
       "      <td>2475</td>\n",
       "      <td>1674</td>\n",
       "      <td>63.893130</td>\n",
       "      <td>946</td>\n",
       "    </tr>\n",
       "    <tr>\n",
       "      <th>15 Feb - 21 Feb</th>\n",
       "      <td>2286</td>\n",
       "      <td>2139</td>\n",
       "      <td>1366</td>\n",
       "      <td>59.755031</td>\n",
       "      <td>920</td>\n",
       "    </tr>\n",
       "    <tr>\n",
       "      <th>22 Feb - 28 Feb</th>\n",
       "      <td>2036</td>\n",
       "      <td>1909</td>\n",
       "      <td>1185</td>\n",
       "      <td>58.202358</td>\n",
       "      <td>851</td>\n",
       "    </tr>\n",
       "  </tbody>\n",
       "</table>\n",
       "</div>"
      ],
      "text/plain": [
       "Week            Incoming Chats Unique Users Closed By Bot Bot Deflection %  \\\n",
       "Overall                    SUM          SUM           SUM          AVERAGE   \n",
       "1 Feb - 7 Feb             2763         2603          1789        64.748462   \n",
       "8 Feb - 14 Feb            2620         2475          1674        63.893130   \n",
       "15 Feb - 21 Feb           2286         2139          1366        59.755031   \n",
       "22 Feb - 28 Feb           2036         1909          1185        58.202358   \n",
       "\n",
       "Week            Closed By User  \n",
       "Overall                    SUM  \n",
       "1 Feb - 7 Feb              974  \n",
       "8 Feb - 14 Feb             946  \n",
       "15 Feb - 21 Feb            920  \n",
       "22 Feb - 28 Feb            851  "
      ]
     },
     "execution_count": 17,
     "metadata": {},
     "output_type": "execute_result"
    }
   ],
   "source": [
    "# Calling the function and saving calculated metrics to a dataframe in desired format\n",
    "\n",
    "metrics1 = {'Incoming Chats' : inc_chat, 'Unique Users' : uni_user, \"Closed By Bot\" : clsd_bot, \"Bot Deflection %\" : bot_def, \"Closed By User\" : clsd_user}\n",
    "result_series = dict()\n",
    "\n",
    "for name, metric in metrics1.items():\n",
    "    metrics1_weekly(name, metric, 2021,2,1)\n",
    "    \n",
    "metrics1_df = pd.DataFrame(result_series)\n",
    "\n",
    "#Setting Row Names\n",
    "metrics1_df.index = [\"1 Feb - 7 Feb\",\"8 Feb - 14 Feb\",\"15 Feb - 21 Feb\",\"22 Feb - 28 Feb\"]\n",
    "# Setting Multi-Index Column names\n",
    "metrics1_df.columns = [metrics1_df.columns.values, [\"SUM\", \"SUM\", \"SUM\", \"AVERAGE\", \"SUM\"] ]\n",
    "# Setting Multi-Index name for 'Index' \n",
    "metrics1_df.rename_axis(('Week','Overall'), axis = 1, inplace = True)\n",
    "\n",
    "metrics1_df"
   ]
  },
  {
   "cell_type": "markdown",
   "metadata": {},
   "source": [
    "---------"
   ]
  },
  {
   "cell_type": "markdown",
   "metadata": {},
   "source": [
    "# Agent Metrics (Metric Table 2)"
   ]
  },
  {
   "cell_type": "markdown",
   "metadata": {},
   "source": [
    "#### Now we will calcualte our second metric table (Agent Metrics) as described in the readme file"
   ]
  },
  {
   "cell_type": "markdown",
   "metadata": {},
   "source": [
    "#### Here as we have to perform different operations for calculating different metrics we will not use function approach (DRY not useful) and a better approach would be to save the segregrated weeks in a dataframe and separately perform the required operations on them.\n",
    "#### So we will only write a function for segregrating the weeks which can be re-used for different months and different frequencies as desirable\n",
    "#### Note: Agents here refer to people i.e. not automated system only humans "
   ]
  },
  {
   "cell_type": "code",
   "execution_count": 18,
   "metadata": {},
   "outputs": [],
   "source": [
    "# Function for segregrating dataframe \n",
    "\n",
    "def segragrate_df(year = 2021, month = 2, day = 1, by = 7):\n",
    "    \n",
    "    df['Week_no'] = None\n",
    "    weekly_metric = dict()\n",
    "    num_days = monthrange(year, month)[1]\n",
    "    by = by\n",
    "    \n",
    "    for i in range(1, math.ceil(num_days/by)+1):\n",
    "        weekly_data = df['ChatStartTime_fix'].between(dt.datetime(year, month, day),dt.datetime(year, month, min(day + by, num_days)))\n",
    "        #df.loc[weekly_data,'Week_no'] = i\n",
    "        #i = pd.DataFrame(weekly_data)    \n",
    "        weekly_metric.update({i : df.loc[weekly_data]})\n",
    "\n",
    "        day = day + by\n",
    "    \n",
    "    return weekly_metric \n",
    "\n",
    "weekly_dfs = segragrate_df()"
   ]
  },
  {
   "cell_type": "markdown",
   "metadata": {},
   "source": [
    "#### Saving the segregrated weeks to a dictionary 'weekly_dfs'"
   ]
  },
  {
   "cell_type": "code",
   "execution_count": 19,
   "metadata": {},
   "outputs": [],
   "source": [
    "# Declaring dictionary variables to store the values weekly and for different metrics\n",
    "\n",
    "metrics2_ser = dict()\n",
    "weekly_metric = dict()"
   ]
  },
  {
   "cell_type": "code",
   "execution_count": 20,
   "metadata": {},
   "outputs": [],
   "source": [
    "# Calculating Total Chats Resolved \n",
    "\n",
    "chat_resolved = (df['ClosedBy'] != 'System') & (df['ClosingComment'] == 'Completed')\n",
    "\n",
    "for i in range(1,5):\n",
    "    weekly_metric[i] = weekly_dfs[i].loc[chat_resolved,'RoomCode'].count()\n",
    "metrics2_ser['Chats Resolved'] = pd.Series(weekly_metric)"
   ]
  },
  {
   "cell_type": "code",
   "execution_count": 21,
   "metadata": {},
   "outputs": [],
   "source": [
    "# Calculating Avg Agent Response Time in seconds\n",
    "\n",
    "for i in range(1,5):\n",
    "    weekly_metric[i] = weekly_dfs[i]['AgentFirstResponseTime'].mean().second\n",
    "metrics2_ser['Avg Agent First Response Time (seconds)'] = pd.Series(weekly_metric)\n"
   ]
  },
  {
   "cell_type": "code",
   "execution_count": 22,
   "metadata": {},
   "outputs": [],
   "source": [
    "## Calculating Avg Chat Resolution Time in seconds\n",
    "\n",
    "for i in range(1,5):\n",
    "    weekly_metric[i] = (weekly_dfs[i]['ChatEndTime_fix'] - weekly_dfs[i]['ChatStartTime_fix']).mean().total_seconds()\n",
    "metrics2_ser[\"Avg Agent Chat Resolution Time (seconds)\"] = pd.Series(weekly_metric)\n"
   ]
  },
  {
   "cell_type": "code",
   "execution_count": 23,
   "metadata": {},
   "outputs": [],
   "source": [
    "# Calculating Avg Agent CSAT Score\n",
    "\n",
    "pos_csat = (df['ClosedBy'] != 'System') & ((df['CsatScore'] == 4) | (df['CsatScore'] == 5))\n",
    "neg_csat = (df['ClosedBy'] != 'System') & ((df['CsatScore'] == 1) | (df['CsatScore'] == 2) | (df['CsatScore'] == 3))\n",
    "\n",
    "for i in range(1,5):    \n",
    "    pos_csat_avg = weekly_dfs[i].loc[pos_csat, 'RoomCode'].count()\n",
    "    neg_csat_avg = weekly_dfs[i].loc[neg_csat, 'RoomCode'].count()\n",
    "    weekly_metric[i] = pos_csat_avg / (pos_csat_avg + neg_csat_avg)\n",
    "metrics2_ser[\"Average Agent CSAT Score\"] = pd.Series(weekly_metric)\n",
    "    "
   ]
  },
  {
   "cell_type": "code",
   "execution_count": 24,
   "metadata": {},
   "outputs": [],
   "source": [
    "# Calculating Avg Agent CSAT Score during Business Hours [10AM - 5PM]\n",
    "\n",
    "for i in range(1,5):    \n",
    "    pos_csat_busn = weekly_dfs[i].set_index(\"ChatStartTime_fix\").between_time('10:00:00','17:00:00').reset_index().loc[pos_csat,\"RoomCode\"].count()\n",
    "    neg_csat_busn = weekly_dfs[i].set_index(\"ChatStartTime_fix\").between_time('10:00:00','17:00:00').reset_index().loc[neg_csat,\"RoomCode\"].count()\n",
    "    weekly_metric[i] = pos_csat_busn / (pos_csat_busn + neg_csat_busn)\n",
    "metrics2_ser[\"Business Hours CSAT [Business Hours: 10AM - 5PM]\"] = pd.Series(weekly_metric)"
   ]
  },
  {
   "cell_type": "code",
   "execution_count": 25,
   "metadata": {},
   "outputs": [
    {
     "data": {
      "text/html": [
       "<div>\n",
       "<style scoped>\n",
       "    .dataframe tbody tr th:only-of-type {\n",
       "        vertical-align: middle;\n",
       "    }\n",
       "\n",
       "    .dataframe tbody tr th {\n",
       "        vertical-align: top;\n",
       "    }\n",
       "\n",
       "    .dataframe thead tr th {\n",
       "        text-align: left;\n",
       "    }\n",
       "</style>\n",
       "<table border=\"1\" class=\"dataframe\">\n",
       "  <thead>\n",
       "    <tr>\n",
       "      <th>Week</th>\n",
       "      <th>Chats Resolved</th>\n",
       "      <th>Avg Agent First Response Time (seconds)</th>\n",
       "      <th>Avg Agent Chat Resolution Time (seconds)</th>\n",
       "      <th>Average Agent CSAT Score</th>\n",
       "      <th>Business Hours CSAT [Business Hours: 10AM - 5PM]</th>\n",
       "    </tr>\n",
       "    <tr>\n",
       "      <th>Overall</th>\n",
       "      <th>SUM</th>\n",
       "      <th>SUM</th>\n",
       "      <th>AVERAGE</th>\n",
       "      <th>AVERAGE</th>\n",
       "      <th>AVERAGE</th>\n",
       "    </tr>\n",
       "  </thead>\n",
       "  <tbody>\n",
       "    <tr>\n",
       "      <th>1 Feb - 7 Feb</th>\n",
       "      <td>750</td>\n",
       "      <td>13</td>\n",
       "      <td>1669.403184</td>\n",
       "      <td>0.722078</td>\n",
       "      <td>0.796154</td>\n",
       "    </tr>\n",
       "    <tr>\n",
       "      <th>8 Feb - 14 Feb</th>\n",
       "      <td>756</td>\n",
       "      <td>14</td>\n",
       "      <td>1684.945801</td>\n",
       "      <td>0.787879</td>\n",
       "      <td>0.799197</td>\n",
       "    </tr>\n",
       "    <tr>\n",
       "      <th>15 Feb - 21 Feb</th>\n",
       "      <td>732</td>\n",
       "      <td>13</td>\n",
       "      <td>1590.304899</td>\n",
       "      <td>0.750000</td>\n",
       "      <td>0.816425</td>\n",
       "    </tr>\n",
       "    <tr>\n",
       "      <th>22 Feb - 28 Feb</th>\n",
       "      <td>656</td>\n",
       "      <td>13</td>\n",
       "      <td>1734.295677</td>\n",
       "      <td>0.770440</td>\n",
       "      <td>0.815789</td>\n",
       "    </tr>\n",
       "  </tbody>\n",
       "</table>\n",
       "</div>"
      ],
      "text/plain": [
       "Week            Chats Resolved Avg Agent First Response Time (seconds)  \\\n",
       "Overall                    SUM                                     SUM   \n",
       "1 Feb - 7 Feb              750                                      13   \n",
       "8 Feb - 14 Feb             756                                      14   \n",
       "15 Feb - 21 Feb            732                                      13   \n",
       "22 Feb - 28 Feb            656                                      13   \n",
       "\n",
       "Week            Avg Agent Chat Resolution Time (seconds)  \\\n",
       "Overall                                          AVERAGE   \n",
       "1 Feb - 7 Feb                                1669.403184   \n",
       "8 Feb - 14 Feb                               1684.945801   \n",
       "15 Feb - 21 Feb                              1590.304899   \n",
       "22 Feb - 28 Feb                              1734.295677   \n",
       "\n",
       "Week            Average Agent CSAT Score  \\\n",
       "Overall                          AVERAGE   \n",
       "1 Feb - 7 Feb                   0.722078   \n",
       "8 Feb - 14 Feb                  0.787879   \n",
       "15 Feb - 21 Feb                 0.750000   \n",
       "22 Feb - 28 Feb                 0.770440   \n",
       "\n",
       "Week            Business Hours CSAT [Business Hours: 10AM - 5PM]  \n",
       "Overall                                                  AVERAGE  \n",
       "1 Feb - 7 Feb                                           0.796154  \n",
       "8 Feb - 14 Feb                                          0.799197  \n",
       "15 Feb - 21 Feb                                         0.816425  \n",
       "22 Feb - 28 Feb                                         0.815789  "
      ]
     },
     "execution_count": 25,
     "metadata": {},
     "output_type": "execute_result"
    }
   ],
   "source": [
    "# Saving calculated metrics to a dataframe in a desired format\n",
    "\n",
    "metrics2_df = pd.DataFrame(metrics2_ser)\n",
    "\n",
    "#Setting Row Names\n",
    "metrics2_df.index = [\"1 Feb - 7 Feb\",\"8 Feb - 14 Feb\",\"15 Feb - 21 Feb\",\"22 Feb - 28 Feb\"]\n",
    "# Setting Multi-Index Column names\n",
    "metrics2_df.columns = [metrics2_df.columns.values, [\"SUM\", \"SUM\", \"AVERAGE\", \"AVERAGE\", \"AVERAGE\"] ]\n",
    "# Setting Multi-Index name for 'Index' \n",
    "metrics2_df.rename_axis(('Week','Overall'), axis = 1, inplace = True)\n",
    "\n",
    "metrics2_df"
   ]
  },
  {
   "cell_type": "markdown",
   "metadata": {},
   "source": [
    "# Saving To Excel"
   ]
  },
  {
   "cell_type": "markdown",
   "metadata": {},
   "source": [
    "#### Now after calculating our metrics, we can finally export them in excel (xlsx) format\n",
    "#### We will be exporting and also performing some basic to advanced exporting operations (like word-wrap, text centering, adjusting columns widths, merging cells etc) to get the desired output in excel format."
   ]
  },
  {
   "cell_type": "code",
   "execution_count": 26,
   "metadata": {},
   "outputs": [],
   "source": [
    "# Save to Excel\n",
    "\n",
    "writer = pd.ExcelWriter('Chat_Data_Metrics.xlsx', engine = 'xlsxwriter')\n",
    "\n",
    "metrics1_df.to_excel(writer, 'Chat Metrics', startrow = 4)\n",
    "metrics2_df.to_excel(writer, 'Agent Metrics', startrow = 4)\n",
    "\n",
    "workbook  = writer.book\n",
    "\n",
    "worksheet1 = writer.sheets['Chat Metrics']\n",
    "worksheet2 = writer.sheets['Agent Metrics']\n",
    "\n",
    "cell_format = workbook.add_format({'text_wrap' : True})\n",
    "head_format = workbook.add_format({'text_wrap' : True, 'bold': True, 'border' : 1})\n",
    "\n",
    "# Function To Adjust Columns Widths across all columns (includes merging of very wide cells widths)\n",
    "def adj_col_width(metrics,wksheet):\n",
    "\n",
    "    indx_len = len(metrics.index[0])\n",
    "    wksheet.set_column(0, 0, (indx_len + 2))\n",
    "\n",
    "    for idx,column in enumerate(metrics,1):\n",
    "        column_length = (len(column[0]) + 2)\n",
    "        col_idx = idx\n",
    "        if column_length <= 40:\n",
    "            wksheet.set_column(col_idx, col_idx, column_length, cell_format)\n",
    "        else:\n",
    "            num_to_alpha = chr(col_idx + 64 + 1)\n",
    "            excel_range = num_to_alpha + '4'+ \":\" + num_to_alpha + '5'  # Since startrow is 4\n",
    "            wksheet.merge_range(excel_range, metrics.columns[idx - 1][0], head_format)\n",
    "            wksheet.set_column(col_idx, col_idx, 35, cell_format)\n",
    "\n",
    "cell_format.set_align('center')\n",
    "cell_format.set_align('vcenter')\n",
    "head_format.set_align('center')\n",
    "head_format.set_align('vcenter')\n",
    "\n",
    "adj_col_width(metrics1_df,worksheet1)\n",
    "adj_col_width(metrics2_df,worksheet2)\n",
    "\n",
    "writer.save()"
   ]
  }
 ],
 "metadata": {
  "kernelspec": {
   "display_name": "Python 3",
   "language": "python",
   "name": "python3"
  },
  "language_info": {
   "codemirror_mode": {
    "name": "ipython",
    "version": 3
   },
   "file_extension": ".py",
   "mimetype": "text/x-python",
   "name": "python",
   "nbconvert_exporter": "python",
   "pygments_lexer": "ipython3",
   "version": "3.8.5"
  }
 },
 "nbformat": 4,
 "nbformat_minor": 4
}
